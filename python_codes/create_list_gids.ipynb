{
 "cells": [
  {
   "cell_type": "markdown",
   "metadata": {},
   "source": [
    "# For search bar on Home page!"
   ]
  },
  {
   "cell_type": "code",
   "execution_count": 6,
   "metadata": {
    "collapsed": true
   },
   "outputs": [],
   "source": [
    "import pandas as pd\n",
    "import numpy as np"
   ]
  },
  {
   "cell_type": "code",
   "execution_count": 7,
   "metadata": {
    "collapsed": true
   },
   "outputs": [],
   "source": [
    "#Function that creates the rows for all objects in the fields (for the HTML table)\n",
    "def table_gen(gids, field):\n",
    "\n",
    "    text2 = []\n",
    "\n",
    "    for i in gids:\n",
    "        text2_temp = '''<tr>\n",
    "            <td>{0}</td>\n",
    "            <td>{1}</td>\n",
    "            <td><a href=\"bio_pages/{1}_{0}.html\"target=\"_blank\">Bio Page</a></td>\n",
    "        </tr>\n",
    "        '''.format(i, field)\n",
    "        \n",
    "        text2.append(text2_temp)\n",
    "        \n",
    "    table = ''\n",
    "\n",
    "    for i in text2:\n",
    "        table += i\n",
    "\n",
    "    return(table)"
   ]
  },
  {
   "cell_type": "code",
   "execution_count": 8,
   "metadata": {
    "collapsed": true
   },
   "outputs": [],
   "source": [
    "#Runs table_gen for every object in a field\n",
    "def table_gen2(field):    \n",
    "    \n",
    "        data = pd.read_csv('/Users/rosaliaobrien/research/website/website_data/'+field+'.cat', sep=' ')\n",
    "            \n",
    "        table = table_gen(data['ids'], field)\n",
    "        return table"
   ]
  },
  {
   "cell_type": "code",
   "execution_count": 9,
   "metadata": {
    "collapsed": true
   },
   "outputs": [],
   "source": [
    "#Adds final touches to table\n",
    "def table_gen3(text):\n",
    "    \n",
    "    text1 = '''<table id=\"gid_table\" class=\"search_results\" style=\"text-align: center;\">\n",
    "    <tr class=\"header\">\n",
    "        <th style=\"width: 33%;\">ID#</th>\n",
    "        <th style=\"width: 33%;\">Field</th>\n",
    "        <th style=\"width: 33%;\">Bio Page</th></tr>'''\n",
    "    \n",
    "    return(text1+'\\n'+'        '+text+'</table>')"
   ]
  },
  {
   "cell_type": "code",
   "execution_count": 10,
   "metadata": {
    "collapsed": true
   },
   "outputs": [],
   "source": [
    "#Creates table that contains objects in all fields and saves it in specified location\n",
    "def create_table(path):\n",
    "    '''\n",
    "    Parameters\n",
    "    ----------\n",
    "    path - str\n",
    "        Where you want to save .txt file containing table for GID search bar\n",
    "    '''\n",
    "    \n",
    "    field_names = ['GN1', 'GN2', 'GN3', 'GN4', 'GN5', 'GN7', 'ERSPRIME', 'GS1', 'GS2', 'GS3', 'GS4', 'GS5']\n",
    "\n",
    "    text2_array = []\n",
    "    text2 = ''\n",
    "\n",
    "    for field in field_names:\n",
    "        table = table_gen2(field)\n",
    "        text2_array.append(table)\n",
    "\n",
    "    for i in text2_array:\n",
    "        text2 += i\n",
    "        \n",
    "    tablegen = table_gen3(text2)\n",
    "    \n",
    "    np.savetxt(path, np.array(tablegen).reshape(1,), fmt='%s')"
   ]
  },
  {
   "cell_type": "code",
   "execution_count": 11,
   "metadata": {},
   "outputs": [],
   "source": [
    "create_table('/Users/rosaliaobrien/Desktop/GID_table.txt')"
   ]
  },
  {
   "cell_type": "code",
   "execution_count": null,
   "metadata": {
    "collapsed": true
   },
   "outputs": [],
   "source": []
  }
 ],
 "metadata": {
  "kernelspec": {
   "display_name": "Python 3",
   "language": "python",
   "name": "python3"
  },
  "language_info": {
   "codemirror_mode": {
    "name": "ipython",
    "version": 3
   },
   "file_extension": ".py",
   "mimetype": "text/x-python",
   "name": "python",
   "nbconvert_exporter": "python",
   "pygments_lexer": "ipython3",
   "version": "3.6.9"
  }
 },
 "nbformat": 4,
 "nbformat_minor": 2
}
