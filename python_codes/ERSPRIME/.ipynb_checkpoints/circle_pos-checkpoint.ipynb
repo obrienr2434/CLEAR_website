{
 "cells": [
  {
   "cell_type": "code",
   "execution_count": null,
   "metadata": {
    "scrolled": true
   },
   "outputs": [],
   "source": [
    "import pandas as pd\n",
    "import numpy as np\n",
    "import matplotlib.pyplot as plt\n",
    "import csv\n",
    "\n",
    "ERSdata = pd.read_csv('/Users/rosaliaobrien/research/fieldcsv/ERSPRIME_table.csv', sep=',')\n",
    "print(ERSdata)"
   ]
  },
  {
   "cell_type": "code",
   "execution_count": null,
   "metadata": {},
   "outputs": [],
   "source": [
    "def circle_pos(x_pos ,y_pos ,gidn):\n",
    "    text='var gid{0} = xy({1}/3.6, {2}/3.6)'.format(gidn, x_pos, y_pos)\n",
    "    return text"
   ]
  },
  {
   "cell_type": "code",
   "execution_count": null,
   "metadata": {
    "scrolled": false
   },
   "outputs": [],
   "source": [
    "gid = ERSdata['gid']\n",
    "xpos = ERSdata['x_pos']\n",
    "ypos = ERSdata['y_pos']\n",
    "\n",
    "for i, x, y in gid, xpos, ypos:\n",
    "        positions=circle_pos(x,y,i)\n",
    "        print(positions)"
   ]
  },
  {
   "cell_type": "code",
   "execution_count": null,
   "metadata": {
    "collapsed": true
   },
   "outputs": [],
   "source": []
  }
 ],
 "metadata": {
  "kernelspec": {
   "display_name": "Python 3",
   "language": "python",
   "name": "python3"
  },
  "language_info": {
   "codemirror_mode": {
    "name": "ipython",
    "version": 3
   },
   "file_extension": ".py",
   "mimetype": "text/x-python",
   "name": "python",
   "nbconvert_exporter": "python",
   "pygments_lexer": "ipython3",
   "version": "3.6.3"
  }
 },
 "nbformat": 4,
 "nbformat_minor": 2
}
