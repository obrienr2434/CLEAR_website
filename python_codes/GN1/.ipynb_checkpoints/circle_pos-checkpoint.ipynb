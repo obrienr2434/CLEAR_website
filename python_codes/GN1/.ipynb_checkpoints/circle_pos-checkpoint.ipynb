{
 "cells": [
  {
   "cell_type": "markdown",
   "metadata": {},
   "source": [
    "# Create object \"variables\""
   ]
  },
  {
   "cell_type": "markdown",
   "metadata": {},
   "source": [
    "This creates each object variable (to be copy pasted into HTML file) which defines the position (in pixels) of each object in the Leaflet map."
   ]
  },
  {
   "cell_type": "code",
   "execution_count": null,
   "metadata": {
    "collapsed": true,
    "scrolled": true
   },
   "outputs": [],
   "source": [
    "import pandas as pd\n",
    "import numpy as np\n",
    "import matplotlib.pyplot as plt\n",
    "import csv\n",
    "\n",
    "#read GN1 catalog which ocntains id #'s, RA, DEC, xpos and ypos\n",
    "GN1data = pd.read_csv('/Users/rosaliaobrien/research/website/website_data/GN1.cat', sep=' ')"
   ]
  },
  {
   "cell_type": "code",
   "execution_count": null,
   "metadata": {
    "collapsed": true
   },
   "outputs": [],
   "source": [
    "#return object variable in the form of a string for each object\n",
    "# \"sc\" refers to a \"scale factor\" used\n",
    "def circle_pos(x_pos ,y_pos ,gidn):\n",
    "    text='var gid{0} = xy({1}/sc, {2}/sc)'.format(gidn, x_pos, y_pos)\n",
    "    return text"
   ]
  },
  {
   "cell_type": "code",
   "execution_count": null,
   "metadata": {
    "collapsed": true
   },
   "outputs": [],
   "source": [
    "def prnt_circloc(field, y_len):\n",
    "    data = pd.read_csv('/Users/rosaliaobrien/research/website/website_data/'+field+'.cat', sep=' ')\n",
    "    \n",
    "    gid = data['ids']\n",
    "    xpos = data['x']\n",
    "    ypos = data['y']\n",
    "\n",
    "    for i, x, y in zip(gid, xpos, ypos):\n",
    "            positions=circle_pos(x,np.abs(y - y_len),i)\n",
    "            print(positions)"
   ]
  },
  {
   "cell_type": "code",
   "execution_count": null,
   "metadata": {},
   "outputs": [],
   "source": [
    "prnt_circloc('GN1', 3164)"
   ]
  }
 ],
 "metadata": {
  "kernelspec": {
   "display_name": "Python 3",
   "language": "python",
   "name": "python3"
  },
  "language_info": {
   "codemirror_mode": {
    "name": "ipython",
    "version": 3
   },
   "file_extension": ".py",
   "mimetype": "text/x-python",
   "name": "python",
   "nbconvert_exporter": "python",
   "pygments_lexer": "ipython3",
   "version": "3.6.9"
  }
 },
 "nbformat": 4,
 "nbformat_minor": 2
}
