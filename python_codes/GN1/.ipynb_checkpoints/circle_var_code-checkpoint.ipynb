{
 "cells": [
  {
   "cell_type": "markdown",
   "metadata": {},
   "source": [
    "# Customize object variables"
   ]
  },
  {
   "cell_type": "markdown",
   "metadata": {},
   "source": [
    "Will create a circle marker at each object location and specifies all style attributes of this marker."
   ]
  },
  {
   "cell_type": "code",
   "execution_count": null,
   "metadata": {
    "collapsed": true
   },
   "outputs": [],
   "source": [
    "import pandas as pd\n",
    "import numpy as np\n",
    "import matplotlib.pyplot as plt\n",
    "import csv\n",
    "from sklearn import neighbors"
   ]
  },
  {
   "cell_type": "code",
   "execution_count": null,
   "metadata": {
    "collapsed": true
   },
   "outputs": [],
   "source": [
    "def dist(i, arr):\n",
    "\n",
    "    #use sklearn to find distance to each object is to each other\n",
    "    tree = neighbors.BallTree(arr, leaf_size=2)\n",
    "    dist, ind = tree.query(arr[[i]], k=2)\n",
    "\n",
    "    return dist"
   ]
  },
  {
   "cell_type": "code",
   "execution_count": null,
   "metadata": {},
   "outputs": [],
   "source": [
    "def create_data(field):\n",
    "    \n",
    "    #read field .cat file that has all necessary info\n",
    "    data = pd.read_csv('/Users/rosaliaobrien/research/website/website_data/'+field+'.cat', sep=' ')\n",
    "\n",
    "    #create array that only contains the x and y pos's of each object\n",
    "    arr = data.to_numpy()\n",
    "    arr = np.delete(arr, 0, 1)\n",
    "    arr = np.delete(arr, 0, 1)\n",
    "    arr = np.delete(arr, 0, 1)\n",
    "    arr = np.delete(arr, 2, 1)\n",
    "\n",
    "    #define the id #'s\n",
    "    gids=data['ids']\n",
    "\n",
    "    #create empty arrays for indices of objects that are close, very close, and medium close\n",
    "    #to one another (will define circle radius based off this)\n",
    "    closeob = np.array([], dtype='int')\n",
    "    veryclose = np.array([], dtype='int')\n",
    "    medclose = np.array([], dtype='int')\n",
    "\n",
    "    #let a distance (defined by dist function) less than 30 be \"close, \n",
    "    #less than 15 be \"medium close\" and less than 10 be \"very close\"\n",
    "    for i, v in enumerate(arr):\n",
    "        if dist(i, arr)[0][1] < 30:\n",
    "            closeob = np.append(closeob, int(i))\n",
    "    #         print(i, dist(i))\n",
    "        if dist(i, arr)[0][1] < 15:\n",
    "            medclose = np.append(medclose, int(i))\n",
    "    #         print(i, dist(i))\n",
    "        if dist(i, arr)[0][1] < 10:\n",
    "            veryclose = np.append(veryclose, int(i))\n",
    "    #         print(i, dist(i))\n",
    "\n",
    "    #let the default circle radius be 5\n",
    "    circrad = np.array([5]*len(data))\n",
    "    \n",
    "    #let close radius be 3\n",
    "    newrad1 = np.array([3]*len(closeob))\n",
    "    \n",
    "    #let very close radius be 1\n",
    "    newrad2 = np.array([1]*len(veryclose))\n",
    "    \n",
    "    #let medium close radius be 2\n",
    "    newrad3 = np.array([2]*len(medclose))\n",
    "    \n",
    "    #update circrad with varying radii\n",
    "    perform = np.put(circrad, closeob, newrad1)\n",
    "    perform2 = np.put(circrad, veryclose, newrad2)\n",
    "    perform3 = np.put(circrad, medclose, newrad3)\n",
    "\n",
    "    #add circle variable radius to dataframe\n",
    "    data['circrad'] = circrad\n",
    "    \n",
    "    return data"
   ]
  },
  {
   "cell_type": "code",
   "execution_count": null,
   "metadata": {
    "collapsed": true
   },
   "outputs": [],
   "source": [
    "def circle_var(gidn, radius, field, show_circles=True):\n",
    "    text1=\"var circle = L.circle(gid{0}, \".format(gidn)\n",
    "    \n",
    "    if show_circles == True:\n",
    "        text2=\"{\\n\\\n",
    "color: 'red',\\n\\\n",
    "fillOpacity: 0,\\n\\\n",
    "weight: 0.8,\\n\\\n",
    "opacity: 3,\\n\"\n",
    "        \n",
    "    if show_circles == False:\n",
    "        text2=\"{\\n\\\n",
    "color: 'red',\\n\\\n",
    "fillOpacity: 0,\\n\\\n",
    "opacity: 0,\\n\"       \n",
    "\n",
    "    text3=\"radius:{0}\".format(radius)\n",
    "    \n",
    "    text4=\"}).addTo(map);\"\n",
    "    \n",
    "    text5=\"circle.bindPopup('gid#{0}: ' + '<a href=\".format(gidn)\n",
    "    \n",
    "    text6='\"bio_pages/{1}_{0}.html\" target=\"_blank\">'.format(gidn, field)\n",
    "    \n",
    "    text7=\"BIO PAGE</a>')\\n\\\n",
    "circle.on('mouseover', function (e) {\"\n",
    "    \n",
    "    text8=\"circlegid='{0}';\\n\\\n",
    "document.getElementById('circle_tracker').innerHTML=circlegid\".format(gidn)\n",
    "    \n",
    "    text9=\"});\\n\\\n",
    "circle.on('mouseout', function (e) {\\n\\\n",
    "circlegid='Move cursor over object';\\n\\\n",
    "document.getElementById('circle_tracker').innerHTML=circlegid\\n\\\n",
    "});\"\n",
    "    \n",
    "    return text1 + text2 + text3 + text4 + text5 +text6 + text7 + text8 + text9"
   ]
  },
  {
   "cell_type": "code",
   "execution_count": null,
   "metadata": {
    "collapsed": true
   },
   "outputs": [],
   "source": [
    "def prnt(gid, radii,field, show_circles=True):\n",
    "    for i, r in zip(gid, radii):\n",
    "            variables=circle_var(i,r,field, show_circles)\n",
    "            print(variables)"
   ]
  },
  {
   "cell_type": "code",
   "execution_count": null,
   "metadata": {},
   "outputs": [],
   "source": [
    "GN1data = create_data('GN1')\n",
    "\n",
    "gid=GN1data['ids']\n",
    "radii=GN1data['circrad']"
   ]
  },
  {
   "cell_type": "code",
   "execution_count": null,
   "metadata": {},
   "outputs": [],
   "source": [
    "prnt(gid, radii, 'GN1', show_circles=True)"
   ]
  }
 ],
 "metadata": {
  "kernelspec": {
   "display_name": "Python 3",
   "language": "python",
   "name": "python3"
  },
  "language_info": {
   "codemirror_mode": {
    "name": "ipython",
    "version": 3
   },
   "file_extension": ".py",
   "mimetype": "text/x-python",
   "name": "python",
   "nbconvert_exporter": "python",
   "pygments_lexer": "ipython3",
   "version": "3.6.9"
  }
 },
 "nbformat": 4,
 "nbformat_minor": 2
}
