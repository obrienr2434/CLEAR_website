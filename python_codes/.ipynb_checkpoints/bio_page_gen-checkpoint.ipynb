{
 "cells": [
  {
   "cell_type": "code",
   "execution_count": 1,
   "metadata": {
    "collapsed": true
   },
   "outputs": [],
   "source": [
    "from glob import glob\n",
    "import numpy as np\n",
    "import csv\n",
    "import pandas as pd\n",
    "from astropy.table import Table\n",
    "from astropy.io import fits\n",
    "import os"
   ]
  },
  {
   "cell_type": "code",
   "execution_count": 2,
   "metadata": {
    "collapsed": true
   },
   "outputs": [],
   "source": [
    "#define function with inputs field, ID, subfield, zphot; will add more as more data is gathered\n",
    "def Magnitude(flux):\n",
    "    #note: had to change to abs(flux) to avoid error, not sure if this is okay\n",
    "    return -2.5*np.log10(abs(flux)) + 25"
   ]
  },
  {
   "cell_type": "code",
   "execution_count": 3,
   "metadata": {
    "collapsed": true
   },
   "outputs": [],
   "source": [
    "def logmass(mass):\n",
    "    return round(np.log10(mass), 6)"
   ]
  },
  {
   "cell_type": "code",
   "execution_count": 23,
   "metadata": {
    "collapsed": true
   },
   "outputs": [],
   "source": [
    "def Bio_gen(field, ID, subfield, catalog, eazy_catalog, griz_catalog):\n",
    "    # field - eithxer North or South\n",
    "    # ID - id number of galaxy\n",
    "    # subfield - ie GN1 or ERSPRIME\n",
    "    # zphot - photmetric redshift\n",
    "    \n",
    "    text1 ='<html>\\n\\\n",
    "    <title>{0} {1}</title>\\n\\\n",
    "    <meta charset=\"UTF-8\" /><meta name=\"viewport\" content=\"width=device-width, initial-scale=1\" />\\n\\\n",
    "    <style>\\n'.format(subfield, ID)\n",
    "    \n",
    "    text2 = 'table.table1 {font-family: arial;border-collapse: collapse;width: 780px;}\\n\\\n",
    "        table.table1 td, table.table1 th {border: 1px solid #ffffff;text-align: center;padding: 7px;}\\n\\\n",
    "    * {box-sizing: border-box;}\\n\\\n",
    "table.table2 {font-family: arial;border-collapse: collapse;width: 900px;}\\n\\\n",
    "    table.table2 td, table.table2 th {border: none;text-align: center;padding: 7px;}\\n\\\n",
    "    * {box-sizing: border-box;}\\n\\\n",
    "     img.eazy {width: 100%;}\\n\\\n",
    "    img.grizli {width: 100%;}\\n\\\n",
    "    img.twod {width: 100%;}\\n\\\n",
    "    img.line {width: 100%;}\\n\\\n",
    "    </style>\\n\\\n",
    "    <table align=\"center\" class=\"table1\">\\n\\\n",
    "    <tr>\\n\\\n",
    "    <th>Field</th>\\n\\\n",
    "    <th>ID</th>\\n\\\n",
    "    <th>z<sub>phot</sub></th>\\n\\\n",
    "    <th>z<sub>grism</sub></th>\\n\\\n",
    "    <th>m<sub>F098M</sub></th>\\n\\\n",
    "    <th>m<sub>F105W</sub></th>\\n\\\n",
    "    <th>m<sub>F125W</sub></th>\\n\\\n",
    "    <th>log(M<sub>*</sub>/M<sub>&#9737</sub>)</th>\\n\\\n",
    "    <th>ra (deg)</th>\\n\\\n",
    "    <th>dec (deg)</th></tr>\\n\\\n",
    "    <tr>\\n'\n",
    "    \n",
    "    #{0} - subfield, {1} - ID, {2} - zphot, {7} - log(mass), {8} - RA, {9} - DEC\n",
    "    text3='<th>{0}</th>\\n\\\n",
    "    <th>{1}</th>\\n\\\n",
    "    <th>{2:.2f}</th>\\n\\\n",
    "    <th>{3:.4f}</th>\\n\\\n",
    "    <th>{4}</th>\\n\\\n",
    "    <th>{5:.2f}</th>\\n\\\n",
    "    <th>{6:.2f}</th>\\n\\\n",
    "    <th>{7}</th>\\n\\\n",
    "    <th>{8}</th>\\n\\\n",
    "    <th>{9}</th>\\n\\\n",
    "    </tr>\\n\\\n",
    "    </table>\\n\\\n",
    "    <body bgcolor=\"#000000\" text=\"#ffffff\">\\n\\\n",
    "    <p> <br /> </p>\\n\\\n",
    "    <table align=\"center\" class=\"table2\">\\n\\\n",
    "    <tr>\\n\\\n",
    "    <th><p> EAZY <br /> P(z) <br /> SED </p></th>\\n\\\n",
    "    <th><img class=\"eazy\" src=\"../../../eazy_plots/{0}_{1}_EZ.png\"></th>\\n\\\n",
    "    <tr>\\n\\\n",
    "    <th><p>Grizli <br /> P(z) <br /> SED <br /> </p></th>\\n\\\n",
    "    <th><img class=\"grizli\" src=\"../../../all_png/{0}_{1}.full.png\"></th>\\n\\\n",
    "    <tr>\\n\\\n",
    "    <th><p> Grizli <br /> 2D Spectra </p></th>\\n\\\n",
    "    <th><img class=\"twod\" src=\"../../../all_png/{0}_{1}.stack.png\"></th>\\n\\\n",
    "    <tr>\\n\\\n",
    "    <th><p> Grizli <br /> Line Map </p></th>\\n\\\n",
    "    <th><img class=\"line\" src=\"../../../all_png/{0}_{1}.line.png\"></th>\\n\\\n",
    "    </tr>\\n\\\n",
    "    </table>\\n\\\n",
    "    </p>\\n\\\n",
    "    </body>\\n\\\n",
    "    </html>\\n'.format(subfield, ID, \n",
    "                      eazy_catalog.query('id == {0}'.format(int(ID))).z_phot.values[0],\n",
    "                      griz_catalog.query('ID == {0}'.format(int(ID))).z_50.values[0],'-',\n",
    "                      Magnitude(catalog.query('id == {0}'.format(int(ID))).f_F105W.values[0]),\n",
    "                      Magnitude(catalog.query('id == {0}'.format(int(ID))).f_F125W.values[0]),\n",
    "                      logmass(eazy_catalog.query('id == {0}'.format(int(ID))).mass.values[0]),\n",
    "                      catalog.query('id == {0}'.format(int(ID))).ra.values[0],\n",
    "                      catalog.query('id == {0}'.format(int(ID))).dec.values[0])\n",
    "\n",
    "    #return everything as an array (so np.savetxt can read it)\n",
    "    return [text1 + text2 + text3]"
   ]
  },
  {
   "cell_type": "code",
   "execution_count": 5,
   "metadata": {
    "collapsed": true
   },
   "outputs": [],
   "source": [
    "#read tables from different catalogs\n",
    "gsd_cat = Table.read('../catalogs/goodss_3dhst.v4.4.cat', format = 'ascii').to_pandas()\n",
    "gsd_eazy = Table.read(fits.open('../catalogs/goodss_3dhst.v4.4.zout.fits'), format = 'fits').to_pandas()\n",
    "\n",
    "gnd_cat = Table.read('../catalogs/goodsn_3dhst.v4.4.cat', format = 'ascii').to_pandas()\n",
    "gnd_eazy = Table.read(fits.open('../catalogs/goodsn_3dhst.v4.4.zout.fits'), format = 'fits').to_pandas()"
   ]
  },
  {
   "cell_type": "code",
   "execution_count": 6,
   "metadata": {
    "collapsed": true,
    "scrolled": false
   },
   "outputs": [],
   "source": [
    "field_names = ['GN1', 'GN2', 'GN3', 'GN4', 'GN5', 'GN7', 'ERSPRIME', 'GS1', 'GS2', 'GS3', 'GS4', 'GS5']"
   ]
  },
  {
   "cell_type": "code",
   "execution_count": 138,
   "metadata": {},
   "outputs": [
    {
     "name": "stdout",
     "output_type": "stream",
     "text": [
      "Processing GN1...\n"
     ]
    },
    {
     "name": "stderr",
     "output_type": "stream",
     "text": [
      "/anaconda3/lib/python3.6/site-packages/ipykernel_launcher.py:2: RuntimeWarning: invalid value encountered in log10\n",
      "  \n"
     ]
    },
    {
     "name": "stdout",
     "output_type": "stream",
     "text": [
      "Processing GN2...\n",
      "Processing GN3...\n",
      "Processing GN4...\n",
      "Processing GN5...\n",
      "Processing GN7...\n",
      "Processing ERSPRIME...\n",
      "Processing GS1...\n",
      "Processing GS2...\n",
      "Processing GS3...\n",
      "Processing GS4...\n",
      "Processing GS5...\n"
     ]
    }
   ],
   "source": [
    "for i in field_names:\n",
    "    \n",
    "    print('Processing '+i+'...')\n",
    "    \n",
    "    griz_catalogs = Table.read(fits.open('../grizli_v2.1_cats/' + i + '_lines_grizli.fits'), format = 'fits').to_pandas()\n",
    "    ids=griz_catalogs['ID']\n",
    "    \n",
    "    if 'N' in i:\n",
    "        F = 'North'\n",
    "        C = gnd_cat\n",
    "        E = gnd_eazy\n",
    "    else:\n",
    "        F = 'South'\n",
    "        C = gsd_cat\n",
    "        E = gsd_eazy\n",
    "    \n",
    "    for ii in ids:\n",
    "        #print(F,i,ii)\n",
    "        bio_page=Bio_gen(F, ii, i, C, E, griz_catalogs) \n",
    "        np.savetxt('/Users/rosaliaobrien/research/bio_pages/{0}_{1}.html'.format(i,ii),bio_page,fmt='%s')"
   ]
  }
 ],
 "metadata": {
  "kernelspec": {
   "display_name": "Python 3",
   "language": "python",
   "name": "python3"
  },
  "language_info": {
   "codemirror_mode": {
    "name": "ipython",
    "version": 3
   },
   "file_extension": ".py",
   "mimetype": "text/x-python",
   "name": "python",
   "nbconvert_exporter": "python",
   "pygments_lexer": "ipython3",
   "version": "3.6.3"
  }
 },
 "nbformat": 4,
 "nbformat_minor": 2
}
